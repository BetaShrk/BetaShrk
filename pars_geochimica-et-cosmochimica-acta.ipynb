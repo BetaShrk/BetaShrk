{
 "cells": [
  {
   "cell_type": "code",
   "execution_count": null,
   "id": "b6d7d154-34ed-491a-a766-b10d938c113e",
   "metadata": {},
   "outputs": [],
   "source": [
    "import requests\n",
    "from bs4 import BeautifulSoup\n",
    "import json"
   ]
  },
  {
   "cell_type": "code",
   "execution_count": null,
   "id": "c9186881-f860-481f-8248-2c7d0db9fa32",
   "metadata": {},
   "outputs": [],
   "source": [
    "url = \"https://www.sciencedirect.com/journal/geochimica-et-cosmochimica-acta/issues\""
   ]
  },
  {
   "cell_type": "code",
   "execution_count": null,
   "id": "5e36c509-0f70-4d23-a323-cdd400e10f76",
   "metadata": {},
   "outputs": [],
   "source": [
    "import requests\n",
    "\n",
    "headers = {\n",
    "    'authority': 'www.sciencedirect.com',\n",
    "    'accept': '*/*',\n",
    "    'accept-language': 'de-DE,de;q=0.9,en-US;q=0.8,en;q=0.7',\n",
    "    'cookie': 'EUID=7328efb7-0914-4e9c-a255-a43aca2a83bc; sd_session_id=0457dc7e29bf384fe338bc8415f83e0e5106gxrqb; acw=0457dc7e29bf384fe338bc8415f83e0e5106gxrqb%7C%24%7CCFA7EA87897606E7AC5A345D03A882248426A744428FCDE787ECE4B6AF9F6D0BBDB680031881448A5CEF2AE378A29E17DC9CAB069A3E6DF10E9169905BBD791CB0469A67597464825D387A21AFA2E514; id_ab=AEG; OptanonAlertBoxClosed=2024-02-14T23:08:37.050Z; AMCVS_4D6368F454EC41940A4C98A6%40AdobeOrg=1; AMCV_4D6368F454EC41940A4C98A6%40AdobeOrg=179643557%7CMCIDTS%7C19768%7CMCMID%7C57044485049567109403056733871789723516%7CMCAAMLH-1708564832%7C6%7CMCAAMB-1708564832%7CRKhpRz8krg2tLO6pguXWp5olkAcUniQYPHaMWWgdJ3xzPWQmdj0y%7CMCOPTOUT-1707967232s%7CNONE%7CMCAID%7CNONE%7CMCCIDH%7C-1660478464%7CvVersion%7C5.5.0; cf_clearance=4fOpVS0KHaa9qxlPDweHaXIbhWf.tnvizRNQj8zOM_c-1707961544-1.0-AWFU7ulvB5TFXKn7d7tof6v56ULMgssz8jFl93fSKaAVL7TjHUiglb3i6IRbHS0JpZ5w0d4LxxVxrlrq1Po/dpQ=; __cf_bm=kQTlILEpBZXedsQ2zZGsj_dHdZZd_JO8db9Zf_Ul4zE-1707961968-1.0-Ac16qDymWAh6zqSlBd9UfG5dc8SE2d/GvmzCe2v+2k69StVsRyRm9M0b8uJ09p1yrggbkcwL50wD2WbUkCKZUJRkn9CEjVcUAgn6SYiNKTS3; MIAMISESSION=73893592-a240-407c-b158-aef101f3d189:3885414877; OptanonConsent=isGpcEnabled=0&datestamp=Thu+Feb+15+2024+02%3A54%3A37+GMT%2B0100+(Mitteleurop%C3%A4ische+Normalzeit)&version=202401.1.0&browserGpcFlag=0&isIABGlobal=false&hosts=&consentId=5e84ac26-74ef-4b23-bc7d-a7f7c6092ef0&interactionCount=1&landingPath=NotLandingPage&groups=1%3A1%2C3%3A1%2C2%3A1%2C4%3A1&geolocation=DE%3BHE&AwaitingReconsent=false; s_pers=%20v8%3D1707962088128%7C1802570088128%3B%20v8_s%3DLess%2520than%25201%2520day%7C1707963888128%3B%20c19%3Dsd%253Abrowse%253Ajournal%253Aarchive%7C1707963888130%3B%20v68%3D1707962077580%7C1707963888132%3B; SD_ART_LINK_STATE=%3Ce%3E%3Cq%3Escience%3C%2Fq%3E%3Crdt%3E2024%2F02%2F15%2F01%3A54%3A48%3A135%3C%2Frdt%3E%3Cenc%3EN%3C%2Fenc%3E%3C%2Fe%3E; s_sess=%20s_cpc%3D0%3B%20s_cc%3Dtrue%3B%20e41%3D1%3B%20s_sq%3Delsevier-global-prod%253D%252526c.%252526a.%252526activitymap.%252526page%25253Dsd%2525253Abrowse%2525253Ajournal%2525253Aarchive%252526link%25253DPrevious%252526region%25253Daa-issues-archive%252526pageIDType%25253D1%252526.activitymap%252526.a%252526.c%252526pid%25253Dsd%2525253Abrowse%2525253Ajournal%2525253Aarchive%252526pidt%25253D1%252526oid%25253DfunctionHc%25252528%25252529%2525257B%2525257D%252526oidt%25253D2%252526ot%25253DBUTTON%3B%20s_ppvl%3Dsd%25253Abrowse%25253Ajournal%25253Aissue%252C27%252C27%252C927%252C897%252C927%252C1920%252C1080%252C1%252CL%3B%20s_ppv%3Dsd%25253Abrowse%25253Ajournal%25253Aarchive%252C22%252C22%252C927%252C389%252C927%252C1920%252C1080%252C1%252CL%3B',\n",
    "    'if-modified-since': 'Thu, 15 Feb 2024 01:47:54 GMT',\n",
    "    'referer': 'https://www.sciencedirect.com/journal/geochimica-et-cosmochimica-acta/issues?page=1',\n",
    "    'sec-ch-ua': '\"Not_A Brand\";v=\"8\", \"Chromium\";v=\"120\", \"Opera GX\";v=\"106\"',\n",
    "    'sec-ch-ua-mobile': '?0',\n",
    "    'sec-ch-ua-platform': '\"Windows\"',\n",
    "    'sec-fetch-dest': 'empty',\n",
    "    'sec-fetch-mode': 'cors',\n",
    "    'sec-fetch-site': 'same-origin',\n",
    "    'user-agent': 'Mozilla/5.0 (Windows NT 10.0; Win64; x64) AppleWebKit/537.36 (KHTML, like Gecko) Chrome/120.0.0.0 Safari/537.36 OPR/106.0.0.0',\n",
    "}\n",
    "\n",
    "params = (\n",
    "    ('page', '1'),\n",
    ")\n",
    "\n",
    "response = requests.get('https://www.sciencedirect.com/journal/00167037/years', headers=headers, params=params)\n",
    "\n",
    "\n",
    "#NB. Original query string below. It seems impossible to parse and\n",
    "#reproduce query strings 100% accurately so the one below is given\n",
    "#in case the reproduced version is not \"correct\".\n",
    "# response = requests.get('https://www.sciencedirect.com/journal/00167037/years?page=1', headers=headers)\n",
    "\n",
    "dict_values = response.json()\n",
    "print(type(dict_values[\"data\"][\"results\"]))\n",
    "\n",
    "val = {}\n",
    "\n",
    "print(len(dict_values[\"data\"][\"results\"]))\n",
    "result_list={}\n",
    "for i in dict_values[\"data\"][\"results\"]:\n",
    "    #print(i)\n",
    "    temp = str(i[\"firstIssue\"][\"volumeFirst\"]) + \" - \" + str(i[\"lastIssue\"][\"volumeFirst\"])\n",
    "    temp_list={}\n",
    "    \n",
    "    for m in i[\"issues\"]:\n",
    "        #print(m)\n",
    "        temp_list[m[\"volumeFirst\"]] = m[\"uriLookup\"]\n",
    "    result_list[temp]=temp_list\n",
    "with open(\"export_data.json\", 'w') as output_input:\n",
    "    \n",
    "    json.dump(result_list, output_input, ensure_ascii=False, indent=4)\n",
    "         #print(dict_values[\"data\"][\"results\"][i][\"issues\"])"
   ]
  },
  {
   "cell_type": "markdown",
   "id": "615f5854-dd95-4835-aab7-d58903086c39",
   "metadata": {},
   "source": [
    "#### volume list to websites (still json tho)"
   ]
  },
  {
   "cell_type": "code",
   "execution_count": null,
   "id": "72c22401-e5af-4f0f-bca6-f85dd49b088c",
   "metadata": {},
   "outputs": [],
   "source": [
    "with open(\"export_data.json\", 'r') as file:\n",
    "    data = json.load(file)\n",
    "\n",
    "base_url = \"https://www.sciencedirect.com/journal/geochimica-et-cosmochimica-acta/\"\n",
    "\n",
    "urls = {}\n",
    "for volumes, issues in data.items():\n",
    "    volume_range = volumes.split(\" - \")\n",
    "    start_volume = int(volume_range[0])\n",
    "    end_volume = int(volume_range[1])\n",
    "    for volume in range(start_volume, end_volume + 1):\n",
    "        volume_url = base_url + \"vol/\" + str(volume) + \"/suppl/C\"\n",
    "        urls[str(volume)] = volume_url\n",
    "\n",
    "with open(\"volume_urls.json\", 'w') as output_file:\n",
    "    json.dump(urls, output_file, ensure_ascii=False, indent=4)"
   ]
  },
  {
   "cell_type": "code",
   "execution_count": null,
   "id": "43282689-6a78-4d69-830a-9133c22cb0fd",
   "metadata": {},
   "outputs": [],
   "source": []
  },
  {
   "cell_type": "code",
   "execution_count": null,
   "id": "255b8d96-a2cc-4a5b-a891-d31bf2435b28",
   "metadata": {},
   "outputs": [],
   "source": [
    "## add files to the same json\n",
    "    for m in i[\"issues\"]:\n",
    "        #print(m)\n",
    "        temp_list[m[\"volumeFirst\"]] = m[\"uriLookup\"]\n",
    "    result_list[temp]=temp_list\n",
    "with open(\"export_data.json\", 'r') as output_input:\n",
    "    file = json.load(output_input)\n",
    "    file[\"sciencedirect\"] = result_list\n",
    "    \n",
    "with open(\"export_data.json\", 'w') as output_input:\n",
    "    json.dump(file, output_input, ensure_ascii=False, indent=4)\n",
    "         #print(dict_values[\"data\"][\"results\"][i][\"issues\"])"
   ]
  },
  {
   "cell_type": "code",
   "execution_count": null,
   "id": "bc35cb9e-2f25-43e1-84bf-c984e31b539c",
   "metadata": {},
   "outputs": [],
   "source": []
  },
  {
   "cell_type": "code",
   "execution_count": null,
   "id": "d7f577f1-9f38-49c0-a23a-39d81f9629de",
   "metadata": {},
   "outputs": [],
   "source": []
  }
 ],
 "metadata": {
  "kernelspec": {
   "display_name": "Python 3 (ipykernel)",
   "language": "python",
   "name": "python3"
  },
  "language_info": {
   "codemirror_mode": {
    "name": "ipython",
    "version": 3
   },
   "file_extension": ".py",
   "mimetype": "text/x-python",
   "name": "python",
   "nbconvert_exporter": "python",
   "pygments_lexer": "ipython3",
   "version": "3.12.1"
  }
 },
 "nbformat": 4,
 "nbformat_minor": 5
}
